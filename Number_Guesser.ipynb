{
 "cells": [
  {
   "cell_type": "code",
   "execution_count": 1,
   "id": "0dd68e81",
   "metadata": {},
   "outputs": [],
   "source": [
    "import random"
   ]
  },
  {
   "cell_type": "code",
   "execution_count": null,
   "id": "cbdb46d2",
   "metadata": {},
   "outputs": [
    {
     "name": "stdout",
     "output_type": "stream",
     "text": [
      "Type a number: 6\n",
      "make a guess: 1\n",
      "You were above the number!\n",
      "make a guess: 2\n",
      "You were above the number!\n",
      "make a guess: 5\n",
      "You were above the number!\n",
      "make a guess: 6\n",
      "You were above the number!\n",
      "make a guess: 3\n",
      "You were above the number!\n",
      "make a guess: 4\n",
      "You were above the number!\n"
     ]
    }
   ],
   "source": [
    "top_of_range = input(\"Type a number: \")\n",
    "if top_of_range.isdigit():\n",
    "    top_of_range = int(top_of_range)\n",
    "    \n",
    "    if top_of_range <= 0:\n",
    "        print(\"Please type a number larger than 0 next time\")\n",
    "        quit()\n",
    "else:\n",
    "        print(\"Please type a number next time.\")\n",
    "        quit()\n",
    "random_number = random.randint(0,top_of_range)\n",
    "guesses = 0\n",
    "while True:\n",
    "    guesses += 1\n",
    "    user_guess = input(\"make a guess: \")\n",
    "    if user_guess.isdigit():\n",
    "         user_guess = int(user_guess)\n",
    "    else:\n",
    "        print(\"Please type a number next time.\")\n",
    "        continue\n",
    "        \n",
    "    if user_guess == random_number:\n",
    "        print(\"You got it!\")\n",
    "        break\n",
    "    elif user_guess > random_number:\n",
    "            print(\"You were above the number!\")\n",
    "    else:\n",
    "            print(\"You were below the number!\")\n",
    "        \n",
    "print(\"You got it in\" , guesses, \"guesses\")"
   ]
  },
  {
   "cell_type": "code",
   "execution_count": null,
   "id": "94bcf546",
   "metadata": {},
   "outputs": [],
   "source": []
  }
 ],
 "metadata": {
  "kernelspec": {
   "display_name": "Python 3 (ipykernel)",
   "language": "python",
   "name": "python3"
  },
  "language_info": {
   "codemirror_mode": {
    "name": "ipython",
    "version": 3
   },
   "file_extension": ".py",
   "mimetype": "text/x-python",
   "name": "python",
   "nbconvert_exporter": "python",
   "pygments_lexer": "ipython3",
   "version": "3.9.7"
  }
 },
 "nbformat": 4,
 "nbformat_minor": 5
}
